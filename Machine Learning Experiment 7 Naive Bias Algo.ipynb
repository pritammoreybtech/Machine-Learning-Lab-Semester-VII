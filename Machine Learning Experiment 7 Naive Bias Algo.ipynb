{
 "cells": [
  {
   "cell_type": "code",
   "execution_count": 3,
   "id": "508ff1aa-936f-4bd2-914e-643bb9e0cb8b",
   "metadata": {},
   "outputs": [
    {
     "name": "stdout",
     "output_type": "stream",
     "text": [
      "   Cheap  Promo  Buy? Predictated_Buy Actual_Buy\n",
      "0      1      1     1             Yes        Yes\n",
      "1      1      0     1             Yes        Yes\n",
      "2      0      1     0              No         No\n",
      "3      1      1     1             Yes        Yes\n",
      "4      1      0     0             Yes         No\n"
     ]
    }
   ],
   "source": [
    "import pandas as pd\n",
    "from sklearn.preprocessing import LabelEncoder\n",
    "from sklearn.naive_bayes import CategoricalNB # Corrected typo\n",
    "\n",
    "#Step1: Create the dataset\n",
    "\n",
    "data= {\n",
    "    'Cheap': ['Yes', 'Yes', 'No', 'Yes', 'Yes'],\n",
    "    'Promo': ['Yes', 'No', 'Yes', 'Yes', 'No'],\n",
    "    'Buy?': ['Yes', 'Yes', 'No', 'Yes', 'No']\n",
    "}\n",
    "\n",
    "\n",
    "df = pd.DataFrame(data)\n",
    "\n",
    "\n",
    "#Ste2: Encode cateogorical variables\n",
    "le_cheap = LabelEncoder()\n",
    "le_promo = LabelEncoder()\n",
    "le_buy = LabelEncoder()\n",
    "\n",
    "df['Cheap'] = le_cheap.fit_transform(df['Cheap']) #Yes=1, No=0\n",
    "df['Promo'] = le_promo.fit_transform(df['Promo'])\n",
    "df['Buy?'] = le_buy.fit_transform(df['Buy?']) #Yes=1, No=0\n",
    "\n",
    "#Step3: Features (X) and Target (y)\n",
    "X= df[['Cheap', 'Promo']] # Corrected typo in column name\n",
    "y= df['Buy?']\n",
    "\n",
    "#Step4: Train Naive Bias\n",
    "\n",
    "model = CategoricalNB() # Corrected typo in class name\n",
    "model.fit(X, y)\n",
    "\n",
    "#Step5: Predict on the same data\n",
    "predictions = model.predict(X)\n",
    "\n",
    "#Step6: Show results with decoded labels\n",
    "df['Predictated_Buy'] = le_buy.inverse_transform(predictions)\n",
    "df['Actual_Buy'] = le_buy.inverse_transform(y)\n",
    "\n",
    "print(df)"
   ]
  },
  {
   "cell_type": "code",
   "execution_count": null,
   "id": "2f1bf750-9d43-4a6a-b56c-6cd8523e675d",
   "metadata": {},
   "outputs": [],
   "source": []
  }
 ],
 "metadata": {
  "kernelspec": {
   "display_name": "Python 3 (ipykernel)",
   "language": "python",
   "name": "python3"
  },
  "language_info": {
   "codemirror_mode": {
    "name": "ipython",
    "version": 3
   },
   "file_extension": ".py",
   "mimetype": "text/x-python",
   "name": "python",
   "nbconvert_exporter": "python",
   "pygments_lexer": "ipython3",
   "version": "3.12.7"
  }
 },
 "nbformat": 4,
 "nbformat_minor": 5
}
